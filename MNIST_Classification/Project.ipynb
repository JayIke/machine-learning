{
 "cells": [
  {
   "cell_type": "code",
   "execution_count": 76,
   "metadata": {},
   "outputs": [],
   "source": [
    "%matplotlib inline\n",
    "import os\n",
    "import ssl\n",
    "ssl._create_default_https_context = ssl._create_unverified_context\n",
    "import numpy as np\n",
    "import matplotlib.pyplot as plt\n",
    "import pandas as pd\n",
    "from scipy import stats\n",
    "from sklearn.datasets import fetch_openml\n",
    "import pickle\n",
    "from scipy.special import expit\n",
    "from sklearn.model_selection import train_test_split"
   ]
  },
  {
   "cell_type": "markdown",
   "metadata": {},
   "source": [
    "## Open MNIST data and create a subset with desired digits\n",
    "MNIST dataset contains 70,000 images of hand-written digits from 0 to 9. Each image has a grey-scale resolution of 28 $\\times$ 28 (i.e., 784 pixels). Each pixel has an integer value ranging from 0 (bright) to 255 (dark).\n",
    "\n",
    "<font color=red>Change the code below to select a different subset </font>"
   ]
  },
  {
   "cell_type": "code",
   "execution_count": 252,
   "metadata": {},
   "outputs": [],
   "source": [
    "X, y = fetch_openml(\"mnist_784\", version=1, return_X_y=True, as_frame=False)\n",
    "y = np.asarray([int(numeric_string) for numeric_string in y])\n",
    "\n",
    "\n",
    "# Change the conditions below to compare between other two digits.\n",
    "class1Indices = (y==0)\n",
    "class2Indices = (y==1)\n",
    "\n",
    "x1 = X[class1Indices]\n",
    "x2 = X[class2Indices]\n",
    "\n",
    "Xtrain = np.concatenate((x1,x2),axis=0)\n",
    "ytrain = np.concatenate((np.zeros(x1.shape[0]),np.ones(x2.shape[0])),axis=0) # associating 0's with 0 and 1's with 1\n",
    "\n",
    "# Saving the temporary variables for fast retrieval\n",
    "with open('temp.pickle', 'wb') as handle:\n",
    "    pickle.dump([Xtrain, ytrain], handle)\n",
    "\n"
   ]
  },
  {
   "cell_type": "markdown",
   "metadata": {},
   "source": [
    "# Split the data to training, testing, and validation subsets\n",
    "## Component 1 (a) - 70% training, 10% validation, and 20% test"
   ]
  },
  {
   "cell_type": "code",
   "execution_count": 266,
   "metadata": {},
   "outputs": [],
   "source": [
    "# loading the temporary variables for fast retrieval\n",
    "with open('temp.pickle', 'rb') as handle:\n",
    "    Xtrain, ytrain = pickle.load(handle)\n",
    "    \n",
    "# Split the data to training, testing, and validation subsets\n",
    "\n",
    "# First split - 70% training and 30% temporary\n",
    "X_train, X_temp, y_train, y_temp = train_test_split(Xtrain, ytrain,test_size=0.3, random_state=100)\n",
    "\n",
    "# Second split - 30% temporary into 20% test and 10% validation\n",
    "X_val, X_test, y_val, y_test = train_test_split(X_temp, y_temp, test_size=2/3, random_state=100) \n",
    "\n",
    "# X_train & y_train = 70%, X_test & y_test = 20%, X_val & y_val = 10%\n",
    "\n",
    "Nsamples = X_train.shape[0] # samples = 10346 for 0 and 1's subset\n",
    "Nfeatures = X_train.shape[1] # features = 784\n",
    "\n"
   ]
  },
  {
   "cell_type": "markdown",
   "metadata": {},
   "source": [
    "# Accuracy of a classifier\n",
    "## Component 2 (a) - write function \"testLinearClassifier\" that taking a (weights), X (test dataset), and y (label)"
   ]
  },
  {
   "cell_type": "code",
   "execution_count": 294,
   "metadata": {},
   "outputs": [],
   "source": [
    "def testLinearClassifier(at,Xt,yt):\n",
    "    \n",
    "    # YOUR CODE HERE\n",
    "    \"\"\"\n",
    "    Parameters:\n",
    "    - a: Coefficients of the linear classifier (w0)\n",
    "    - X: Test dataset (X_test)\n",
    "    - y: True labels for the test dataset (np array)\n",
    "    \"\"\"\n",
    "    # Add a bias term (w0) to the test dataset\n",
    "    X_test_with_bias = np.c_[Xt, np.ones(Xt.shape[0])]\n",
    "    \n",
    "    \n",
    "    # Debug\n",
    "    print(\"Shapes - X_test_with_bias:\", X_test_with_bias.shape, \"a:\", at.shape)\n",
    "    \n",
    "    # Calculate the predicted labels using the weights\n",
    "    predictions = np.dot(X_test_with_bias,at)\n",
    "    \n",
    "    # Convert predictions to binary (0 or 1)\n",
    "    predicted_labels = np.where(predictions > 0, 1, 0)\n",
    "    \n",
    "    # Total number of misclassifications\n",
    "    # misclassifications = np.sum(predicted_labels != yt)\n",
    "    misclassifications = np.sum(predicted_labels != yt)\n",
    "    \n",
    "    return misclassifications\n"
   ]
  },
  {
   "cell_type": "markdown",
   "metadata": {},
   "source": [
    "## Define and test gaussianClassifierWithIdentityCovariance "
   ]
  },
  {
   "cell_type": "code",
   "execution_count": 295,
   "metadata": {},
   "outputs": [
    {
     "name": "stdout",
     "output_type": "stream",
     "text": [
      "Shapes - X_test_with_bias: (10346, 785) a: (785,)\n",
      "Shapes - X_test_with_bias: (1478, 785) a: (785,)\n",
      "Shapes - X_test_with_bias: (2956, 785) a: (785,)\n",
      "train:  218\n",
      "val:  23\n",
      "test:  59\n"
     ]
    },
    {
     "data": {
      "image/png": "[encoded data removed]",
      "text/plain": [
       "<Figure size 640x480 with 1 Axes>"
      ]
     },
     "metadata": {},
     "output_type": "display_data"
    }
   ],
   "source": [
    "#------TRAINING CODE --------------\n",
    "\n",
    "from matplotlib.cbook import flatten\n",
    "\n",
    "\n",
    "def gaussianClassifierWithIdentityCovariance(Xtrain1,ytrain1):\n",
    "    # X*I=X, the result is the original matrix, hence:\n",
    "    \n",
    "    # Separate the data into two classes\n",
    "    class_1_data =  Xtrain1[ytrain1 == 0]\n",
    "    class_2_data = Xtrain1[ytrain1 == 1]\n",
    "    \n",
    "    # Estimate mean vectors \n",
    "    mu1 = np.mean(class_1_data, axis=0)\n",
    "    mu2 = np.mean(class_2_data, axis=0)\n",
    "    #a = 0.01*np.random.randn(Nfeatures+1,1)\n",
    "    \n",
    "    # Reshape for concatenation\n",
    "    #mu1 = mu1.reshape((mu1.shape[0], 1))\n",
    "    #mu2 = mu2.reshape((mu2.shape[0], 1))\n",
    "    \n",
    "    # Discriminate function coefficients\n",
    "    a = np.concatenate([(mu2 - mu1), -0.5 * (mu1 + mu2)])\n",
    "    \n",
    "    \n",
    "    \n",
    "    \n",
    "    \n",
    "    return a\n",
    "    #YOUR CODE HERE\n",
    "\n",
    "\n",
    "#------SIMPLE TESTING ON THE TRAINING DATA ITSELF --------------\n",
    "a = gaussianClassifierWithIdentityCovariance(X_train,y_train)\n",
    "# a = a.flatten()\n",
    "plt.imshow(np.reshape(a[0:784],(28,28)))\n",
    "a = np.reshape(a[0:785],785)\n",
    "\n",
    "train = testLinearClassifier(a,X_train,y_train)\n",
    "val = testLinearClassifier(a,X_val,y_val)\n",
    "test = testLinearClassifier(a,X_test,y_test)\n",
    "print('train: ', train)\n",
    "print('val: ', val)\n",
    "print('test: ', test)\n",
    "\n",
    "\n"
   ]
  },
  {
   "cell_type": "markdown",
   "metadata": {},
   "source": [
    "## Define and test gaussianClassifierWithCommonCovariance "
   ]
  },
  {
   "cell_type": "code",
   "execution_count": 246,
   "metadata": {},
   "outputs": [
    {
     "name": "stdout",
     "output_type": "stream",
     "text": [
      "Complete your code\n"
     ]
    },
    {
     "ename": "ValueError",
     "evalue": "operands could not be broadcast together with shapes (785,) (784,) ",
     "output_type": "error",
     "traceback": [
      "\u001b[1;31m---------------------------------------------------------------------------\u001b[0m",
      "\u001b[1;31mValueError\u001b[0m                                Traceback (most recent call last)",
      "Cell \u001b[1;32mIn[246], line 43\u001b[0m\n\u001b[0;32m     36\u001b[0m     \u001b[38;5;28;01mreturn\u001b[39;00m a2\n\u001b[0;32m     38\u001b[0m     \u001b[38;5;66;03m#return a\u001b[39;00m\n\u001b[0;32m     39\u001b[0m     \u001b[38;5;66;03m#YOUR CODE HERE\u001b[39;00m\n\u001b[0;32m     40\u001b[0m \n\u001b[0;32m     41\u001b[0m     \n\u001b[0;32m     42\u001b[0m \u001b[38;5;66;03m#------SIMPLE TESTING ON THE TRAINING DATA ITSELF --------------\u001b[39;00m\n\u001b[1;32m---> 43\u001b[0m a2 \u001b[38;5;241m=\u001b[39m \u001b[43mgaussianClassifierWithCommonCovariance\u001b[49m\u001b[43m(\u001b[49m\u001b[43mX_train\u001b[49m\u001b[43m,\u001b[49m\u001b[43my_train\u001b[49m\u001b[43m)\u001b[49m\n\u001b[0;32m     45\u001b[0m \u001b[38;5;66;03m# plt.imshow(np.reshape(a2[0:784],(28,28)))\u001b[39;00m\n\u001b[0;32m     46\u001b[0m plt\u001b[38;5;241m.\u001b[39mimshow(a2)\n",
      "Cell \u001b[1;32mIn[246], line 34\u001b[0m, in \u001b[0;36mgaussianClassifierWithCommonCovariance\u001b[1;34m(X_train, y_train)\u001b[0m\n\u001b[0;32m     32\u001b[0m \u001b[38;5;66;03m# Discriminant function coefficients\u001b[39;00m\n\u001b[0;32m     33\u001b[0m cov_inv \u001b[38;5;241m=\u001b[39m np\u001b[38;5;241m.\u001b[39mlinalg\u001b[38;5;241m.\u001b[39minv(cov_matrix)\n\u001b[1;32m---> 34\u001b[0m a2 \u001b[38;5;241m=\u001b[39m np\u001b[38;5;241m.\u001b[39mdot(cov_inv, \u001b[43ma\u001b[49m\u001b[38;5;241;43m*\u001b[39;49m\u001b[43m(\u001b[49m\u001b[43mmean_2\u001b[49m\u001b[43m \u001b[49m\u001b[38;5;241;43m-\u001b[39;49m\u001b[43m \u001b[49m\u001b[43mmean_1\u001b[49m\u001b[43m)\u001b[49m)\n\u001b[0;32m     36\u001b[0m \u001b[38;5;28;01mreturn\u001b[39;00m a2\n",
      "\u001b[1;31mValueError\u001b[0m: operands could not be broadcast together with shapes (785,) (784,) "
     ]
    }
   ],
   "source": [
    "#------TRAINING CODE --------------\n",
    "\n",
    "def gaussianClassifierWithCommonCovariance(X_train,y_train):\n",
    "\n",
    "    # a = 0.01*np.random.randn(Nfeatures+1,1)\n",
    "    print(\"Complete your code\")\n",
    "    \"\"\"\n",
    "    Gaussian classifier with a common covariance matrix.\n",
    "\n",
    "    Parameters:\n",
    "    - X_train: Training dataset (numpy array)\n",
    "    - y_train: Labels for the training dataset (numpy array)\n",
    "\n",
    "    Returns:\n",
    "    - a2: Coefficients of the linear classifier [w^T, w0] (numpy array)\n",
    "    \"\"\"\n",
    "\n",
    "    # Separate the data into two classes\n",
    "    class_1_data = X_train[y_train == 0]\n",
    "    class_2_data = X_train[y_train == 1]\n",
    "\n",
    "    # Estimate the mean vectors\n",
    "    mean_1 = np.mean(class_1_data, axis=0)\n",
    "    mean_2 = np.mean(class_2_data, axis=0)\n",
    "       # Reshape for concatenation\n",
    "    \n",
    "    \n",
    "\n",
    "    # Estimate the common covariance matrix\n",
    "    cov_matrix = np.cov(X_train, rowvar=False) +1e-5*np.identity(X_train.shape[1])\n",
    "\n",
    "    # Discriminant function coefficients\n",
    "    cov_inv = np.linalg.inv(cov_matrix)\n",
    "    a2 = np.dot(cov_inv, a*(mean_2 - mean_1))\n",
    "\n",
    "    return a2\n",
    "    \n",
    "    #return a\n",
    "    #YOUR CODE HERE\n",
    "\n",
    "    \n",
    "#------SIMPLE TESTING ON THE TRAINING DATA ITSELF --------------\n",
    "a2 = gaussianClassifierWithCommonCovariance(X_train,y_train)\n",
    "\n",
    "# plt.imshow(np.reshape(a2[0:784],(28,28)))\n",
    "plt.imshow(a2)\n",
    "\n",
    "train = testLinearClassifier(a2,X_train,y_train)\n",
    "val = testLinearClassifier(a2,X_val,y_val)\n",
    "test = testLinearClassifier(a2,X_test,y_test)\n",
    "print('train: ', train)\n",
    "print('val: ', val)\n",
    "print('test: ', test)\n"
   ]
  },
  {
   "cell_type": "code",
   "execution_count": 448,
   "metadata": {},
   "outputs": [
    {
     "name": "stdout",
     "output_type": "stream",
     "text": [
      "Test Accuracy:  0.998\n",
      "Test Precision: 0.998\n",
      "Test Recall:    0.998\n",
      "TestF-score:   0.998\n",
      "\n",
      "Val Accuracy:  0.999\n",
      "Val Precision: 0.999\n",
      "Val Recall:    0.999\n",
      "ValF-score:   0.999\n"
     ]
    },
    {
     "data": {
      "image/png": "[encoded data removed]",
      "text/plain": [
       "<Figure size 640x480 with 1 Axes>"
      ]
     },
     "metadata": {},
     "output_type": "display_data"
    }
   ],
   "source": [
    "import numpy as np\n",
    "from dataclasses import dataclass\n",
    "\n",
    "from sklearn.metrics import PredictionErrorDisplay\n",
    "\n",
    "@dataclass\n",
    "class LogisticRegression:\n",
    "    epochs: int\n",
    "    learning_rate: float\n",
    "    threshold: float\n",
    "    logging: bool\n",
    "\n",
    "    def sigmoid(self, predictions: np.ndarray) -> np.ndarray:\n",
    "        \"\"\"The numerically stable implementation of the Sigmoid activation function.\"\"\"\n",
    "\n",
    "        neg_mask = predictions < 0\n",
    "        pos_mask = ~neg_mask\n",
    "\n",
    "        zs = np.empty_like(predictions)\n",
    "        zs[neg_mask] = np.exp(predictions[neg_mask])\n",
    "        zs[pos_mask] = np.exp(-predictions[pos_mask])\n",
    "\n",
    "        res = np.ones_like(predictions)\n",
    "        res[neg_mask] = zs[neg_mask]\n",
    "\n",
    "        return res / (1 + zs)+1e-4\n",
    "\n",
    "    def mean_log_loss(self, predictions: np.ndarray, labels: np.ndarray) -> np.float32:\n",
    "        \"\"\"Computes the mean Cross Entropy Loss (in binary classification, also called Log-loss).\"\"\"\n",
    "\n",
    "        return -(labels * np.log(predictions) + (1 - labels) * np.log(1 - predictions)).mean()\n",
    "\n",
    "    def fit(self, features: np.ndarray, labels: np.ndarray) -> None:\n",
    "        \"\"\"Fits the Logistic Regression model.\"\"\"\n",
    "\n",
    "        num_samples, num_features = features.shape\n",
    "        self.weights, self.bias = np.zeros(num_features), 0\n",
    "\n",
    "        for epoch in range(self.epochs):\n",
    "            prediction = self.sigmoid(features.dot(self.weights) + self.bias)\n",
    "            difference = prediction - labels  # type: ignore\n",
    "\n",
    "            d_weights = features.T.dot(difference) / num_samples\n",
    "            d_bias = difference.sum() / num_samples\n",
    "\n",
    "            self.weights -= self.learning_rate * d_weights\n",
    "            self.bias -= self.learning_rate * d_bias\n",
    "\n",
    "            if self.logging:\n",
    "                print(f\"Mean Log-loss [{epoch}]: {self.mean_log_loss(prediction, labels):.3f}\")\n",
    "\n",
    "    def predict(self, features: np.ndarray) -> np.ndarray:\n",
    "        \"\"\"Performs inference using the given features.\"\"\"\n",
    "\n",
    "        return np.where(self.sigmoid(features.dot(self.weights) + self.bias) < self.threshold, 0, 1)  # type: ignore\n",
    "\n",
    "\n",
    "if __name__ == \"__main__\":\n",
    "    import matplotlib.pyplot as plt\n",
    "\n",
    "    \n",
    "    from sklearn.metrics import accuracy_score, precision_recall_fscore_support\n",
    "   \n",
    "\n",
    "    plt.style.use(\"bmh\")\n",
    "\n",
    "\n",
    "    logistic_regression = LogisticRegression(\n",
    "        learning_rate=1e-4,\n",
    "        epochs=100,\n",
    "        threshold=0.5,\n",
    "        logging=False,\n",
    "    )\n",
    "    logistic_regression.fit(X_train, y_train)  # type: ignore\n",
    "    predictions = logistic_regression.predict(X_test)  # type: ignore\n",
    "\n",
    "    accuracy = accuracy_score(y_test, predictions)\n",
    "    precision, recall, fscore, _ = precision_recall_fscore_support(\n",
    "        y_test, predictions, average=\"macro\"\n",
    "    )\n",
    "\n",
    "    print(f\"Test Accuracy:  {accuracy:.3f}\")\n",
    "    print(f\"Test Precision: {precision:.3f}\")\n",
    "    print(f\"Test Recall:    {recall:.3f}\")\n",
    "    print(f\"TestF-score:   {fscore:.3f}\\n\")\n",
    "    PredictionErrorDisplay(y_true=y_test,y_pred=predictions).plot()\n",
    "    \n",
    " \n",
    "    \n",
    "    predictions = logistic_regression.predict(X_val)  # type: ignore\n",
    "    accuracy = accuracy_score(y_val, predictions)\n",
    "    precision, recall, fscore, _ = precision_recall_fscore_support(\n",
    "        y_val, predictions, average=\"macro\"\n",
    "    )\n",
    "    \n",
    "    \n",
    "    print(f\"Val Accuracy:  {accuracy:.3f}\")\n",
    "    print(f\"Val Precision: {precision:.3f}\")\n",
    "    print(f\"Val Recall:    {recall:.3f}\")\n",
    "    print(f\"ValF-score:   {fscore:.3f}\")\n",
    "  \n",
    "    "
   ]
  },
  {
   "cell_type": "markdown",
   "metadata": {},
   "source": [
    "## Define and test logisticRegression \n",
    "\n",
    "You may choose the step size as 1e-4. You can try changing it.\n",
    "\n",
    "Use the expit() function from scipy.special.expit to implement sigmoid without overflow errors "
   ]
  },
  {
   "cell_type": "code",
   "execution_count": 474,
   "metadata": {},
   "outputs": [
    {
     "name": "stdout",
     "output_type": "stream",
     "text": [
      "Shapes - X_test_with_bias: (10346, 785) a: (785,)\n",
      "Shapes - X_test_with_bias: (1478, 785) a: (785,)\n",
      "Shapes - X_test_with_bias: (2956, 785) a: (785,)\n",
      "train:  7\n",
      "val:  0\n",
      "test:  3\n"
     ]
    },
    {
     "data": {
      "image/png": "[encoded data removed]",
      "text/plain": [
       "<Figure size 640x480 with 1 Axes>"
      ]
     },
     "metadata": {},
     "output_type": "display_data"
    }
   ],
   "source": [
    "def logisticRegression(Xtrain,ytrain,iterations=100,step_size=1e-4,verbose=False):\n",
    "    LogisticRegression.epochs=iterations\n",
    "    LogisticRegression.learning_rate=step_size\n",
    "    LogisticRegression.logging=verbose\n",
    "    logistic_regression.fit(Xtrain, ytrain)  # type: ignore\n",
    "    for epoch in range(iterations):\n",
    "        prediction = logistic_regression.sigmoid(Xtrain.dot(logistic_regression.weights) + logistic_regression.bias)\n",
    "        difference = prediction - ytrain  # type: ignore\n",
    "\n",
    "        d_weights = Xtrain.T.dot(difference) / Nsamples\n",
    "        d_bias = difference.sum() / Nsamples\n",
    "\n",
    "        logistic_regression.weights -= logistic_regression.learning_rate * d_weights\n",
    "        logistic_regression.bias -= logistic_regression.learning_rate * d_bias\n",
    "        return logistic_regression.weights\n",
    "    \n",
    "  \n",
    "    print(\"Complete your code\")\n",
    "    \n",
    "   \n",
    "    #YOUR CODE HERE\n",
    "    \n",
    "#------SIMPLE TESTING ON THE TRAINING DATA ITSELF --------------\n",
    "a = logisticRegression(X_train,y_train,iterations=500,verbose=False)\n",
    "plt.imshow(np.reshape(a[0:784],(28,28)))\n",
    "a = np.append(a,1)\n",
    "\n",
    "train = testLinearClassifier(a,X_train,y_train)\n",
    "val = testLinearClassifier(a,X_val,y_val)\n",
    "test = testLinearClassifier(a,X_test,y_test)\n",
    "\n",
    "print('train: ', train)\n",
    "print('val: ', val)\n",
    "print('test: ', test)\n",
    "\n"
   ]
  },
  {
   "cell_type": "code",
   "execution_count": null,
   "metadata": {},
   "outputs": [],
   "source": [
    "def logisticRegressionWithRegularization(Xtrain,ytrain,iterations=100,step_size=1e-4,lam=0,verbose=False):\n",
    "\n",
    "\n",
    "    a = 0.01*np.random.randn(Nfeatures+1,1)\n",
    "    print(\"Complete your code\")\n",
    "    \n",
    "    return a\n",
    "    #YOUR CODE HERE\n",
    "\n",
    "    \n",
    "#------SIMPLE TESTING ON THE TRAINING DATA ITSELF --------------\n",
    "a = logisticRegressionWithRegularization(X_train,y_train,iterations=500,verbose=False,lam=1)\n",
    "plt.imshow(np.reshape(a[0:784],(28,28)))\n",
    "\n",
    "train = testLinearClassifier(a,X_train,y_train)\n",
    "val = testLinearClassifier(a,X_val,y_val)\n",
    "test = testLinearClassifier(a,X_test,y_test)\n"
   ]
  },
  {
   "cell_type": "code",
   "execution_count": null,
   "metadata": {},
   "outputs": [],
   "source": [
    "def optimizeHyperparameters(Xtrain,ytrain):\n",
    "     \n",
    "        # YOUR CODE HERE\n",
    "        \n",
    "    return lamopt\n"
   ]
  },
  {
   "cell_type": "markdown",
   "metadata": {},
   "source": [
    "# REPORT TEST ERRORS OF THE BEST MODELS\n",
    "\n",
    "YOUR CODE BELOW"
   ]
  },
  {
   "cell_type": "code",
   "execution_count": null,
   "metadata": {},
   "outputs": [],
   "source": []
  }
 ],
 "metadata": {
  "anaconda-cloud": {},
  "kernelspec": {
   "display_name": "Python 3 (ipykernel)",
   "language": "python",
   "name": "python3"
  },
  "language_info": {
   "codemirror_mode": {
    "name": "ipython",
    "version": 3
   },
   "file_extension": ".py",
   "mimetype": "text/x-python",
   "name": "python",
   "nbconvert_exporter": "python",
   "pygments_lexer": "ipython3",
   "version": "3.11.3"
  }
 },
 "nbformat": 4,
 "nbformat_minor": 4
}
