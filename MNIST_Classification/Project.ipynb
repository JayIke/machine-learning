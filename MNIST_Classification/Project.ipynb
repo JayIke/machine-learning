{
 "cells": [
  {
   "cell_type": "code",
   "execution_count": 60,
   "metadata": {},
   "outputs": [],
   "source": [
    "%matplotlib inline\n",
    "import os\n",
    "import ssl\n",
    "ssl._create_default_https_context = ssl._create_unverified_context\n",
    "import numpy as np\n",
    "import matplotlib.pyplot as plt\n",
    "import pandas as pd\n",
    "from scipy import stats\n",
    "from sklearn.datasets import fetch_openml\n",
    "import pickle\n",
    "from scipy.special import expit\n",
    "from sklearn.model_selection import train_test_split"
   ]
  },
  {
   "cell_type": "markdown",
   "metadata": {},
   "source": [
    "## Open MNIST data and create a subset with desired digits\n",
    "MNIST dataset contains 70,000 images of hand-written digits from 0 to 9. Each image has a grey-scale resolution of 28 $\\times$ 28 (i.e., 784 pixels). Each pixel has an integer value ranging from 0 (bright) to 255 (dark).\n",
    "\n",
    "<font color=red>Change the code below to select a different subset </font>"
   ]
  },
  {
   "cell_type": "code",
   "execution_count": 61,
   "metadata": {},
   "outputs": [
    {
     "name": "stderr",
     "output_type": "stream",
     "text": [
      "c:\\Python311\\Lib\\site-packages\\sklearn\\datasets\\_openml.py:1022: FutureWarning: The default value of `parser` will change from `'liac-arff'` to `'auto'` in 1.4. You can set `parser='auto'` to silence this warning. Therefore, an `ImportError` will be raised from 1.4 if the dataset is dense and pandas is not installed. Note that the pandas parser may return different data types. See the Notes Section in fetch_openml's API doc for details.\n",
      "  warn(\n"
     ]
    }
   ],
   "source": [
    "X, y = fetch_openml(\"mnist_784\", version=1, return_X_y=True, as_frame=False)\n",
    "y = np.asarray([int(numeric_string) for numeric_string in y])\n",
    "\n",
    "\n",
    "# Change the conditions below to compare between other two digits.\n",
    "class1Indices = (y==0)\n",
    "class2Indices = (y==1)\n",
    "\n",
    "x1 = X[class1Indices]\n",
    "x2 = X[class2Indices]\n",
    "\n",
    "Xtrain = np.concatenate((x1,x2),axis=0)\n",
    "ytrain = np.concatenate((np.zeros(x1.shape[0]),np.ones(x2.shape[0])),axis=0) # associating 0's with 0 and 1's with 1\n",
    "\n",
    "# Saving the temporary variables for fast retrieval\n",
    "with open('temp.pickle', 'wb') as handle:\n",
    "    pickle.dump([Xtrain, ytrain], handle)\n",
    "\n"
   ]
  },
  {
   "cell_type": "markdown",
   "metadata": {},
   "source": [
    "# Split the data to training, testing, and validation subsets\n",
    "## Component 1.1 - 70% training, 10% validation, and 20% test"
   ]
  },
  {
   "cell_type": "code",
   "execution_count": 62,
   "metadata": {},
   "outputs": [],
   "source": [
    "# loading the temporary variables for fast retrieval\n",
    "with open('temp.pickle', 'rb') as handle:\n",
    "    Xtrain, ytrain = pickle.load(handle)\n",
    "    \n",
    "# Split the data to training, testing, and validation subsets\n",
    "\n",
    "# First split - 70% training and 30% temporary\n",
    "X_train, X_temp, y_train, y_temp = train_test_split(Xtrain, ytrain,test_size=0.3, random_state=1)\n",
    "\n",
    "# Second split - 30% temporary into 20% test and 10% validation\n",
    "X_val, X_test, y_val, y_test = train_test_split(X_temp, y_temp, test_size=2/3, random_state=1) \n",
    "\n",
    "# X_train & y_train = 70%, X_test & y_test = 20%, X_val & y_val = 10%\n",
    "\n",
    "Nsamples = X_train.shape[0] # samples = 10346 for 0 and 1's subset\n",
    "Nfeatures = X_train.shape[1] # features = 784\n",
    "\n"
   ]
  },
  {
   "cell_type": "markdown",
   "metadata": {},
   "source": [
    "# Accuracy of a classifier\n",
    "## Component 1.2 - write function \"testLinearClassifier\" that taking a (weights), X (test dataset), and y (label)"
   ]
  },
  {
   "cell_type": "code",
   "execution_count": 63,
   "metadata": {},
   "outputs": [],
   "source": [
    "from numpy import size\n",
    "\n",
    "\n",
    "def testLinearClassifier(a,Xt,yt):\n",
    "    \n",
    "    # YOUR CODE HERE\n",
    "    \"\"\"\n",
    "    Parameters:\n",
    "    - a: Coefficients of the linear classifier [wt,w0]\n",
    "    - Xt: Dataset(Samples,Features) \n",
    "    - y: True labels to check classifier\n",
    "    \"\"\"\n",
    "    \n",
    "    \n",
    "    # Calculate the predicted labels using the weights\n",
    "    \n",
    "    predictions = np.dot(Xt,a[:-1])+ a[-1] # Predict discriminate\n",
    "    y_pred = np.where(predictions > 0, 1, 0)\n",
    "    #np.sign(predictions)\n",
    "    misclass = np.sum(y_pred != yt)\n",
    "    accuracy = 1 - misclass/len(yt)\n",
    "    return misclass,accuracy\n",
    "    \n"
   ]
  },
  {
   "cell_type": "markdown",
   "metadata": {},
   "source": [
    "## Define and test gaussianClassifierWithIdentityCovariance \n",
    "## Component 1.3\n",
    "## With Discriminant:\n",
    "$$y(\\mathbf x) = \\underbrace{(\\mu_2-\\mu_1)^T}_{\\mathbf w^T} ~\\mathbf x- \\underbrace{\\mathbf w^T\\left(\\frac{\\mu_1+\\mu_2}{2}\\right)}_{w_0}$$"
   ]
  },
  {
   "cell_type": "code",
   "execution_count": 64,
   "metadata": {},
   "outputs": [
    {
     "name": "stdout",
     "output_type": "stream",
     "text": [
      "\n",
      "y1(x) Train misclassifications:  70, Training Accuracy: 99.32%\n",
      "y1(x) Validation Misclassifications:  14, Validation Accuracy: 99.05%\n",
      "y1(x) Test Misclassifications:  22, Test Accuracy: 99.26%\n"
     ]
    },
    {
     "data": {
      "image/png": "[encoded data removed]",
      "text/plain": [
       "<Figure size 640x480 with 1 Axes>"
      ]
     },
     "metadata": {},
     "output_type": "display_data"
    }
   ],
   "source": [
    "#------TRAINING CODE --------------\n",
    "\n",
    "import array\n",
    "from turtle import color\n",
    "from matplotlib.cbook import flatten\n",
    "from matplotlib.pyplot import cool\n",
    "from numpy import float64\n",
    "\n",
    "\n",
    "def gaussianClassifierWithIdentityCovariance(Xtrain1,ytrain1):\n",
    "    \"\"\"\n",
    "    Parameters:\n",
    "    - Xt: Dataset(Samples,Features) \n",
    "    - y: True labels to check classifier\n",
    "    \n",
    "    Return:\n",
    "    - a1: Calculated weight vector\n",
    "    \"\"\"\n",
    "   \n",
    "    # Separate the data into two classes\n",
    "    a = 0.01*np.random.randn(Nfeatures+1,1)\n",
    "    class_1_data =  Xtrain1[ytrain1 == 0]\n",
    "    class_2_data = Xtrain1[ytrain1 == 1]\n",
    "    \n",
    "    # Create mean subtracted arrays\n",
    "    class_mean = np.mean(Xtrain1,axis=0)\n",
    "    mu1 = np.mean(class_1_data,axis=0)\n",
    "    mu2 = np.mean(class_2_data,axis=0)\n",
    "      \n",
    "    w = mu2-mu1\n",
    "    w0 = 0.5 * (np.dot(mu1,mu1) - np.dot(mu2,mu2))\n",
    "    a1 = np.concatenate([w, np.array([w0])])\n",
    "    \n",
    "    return a1\n",
    "    #YOUR CODE HERE\n",
    "\n",
    "\n",
    "#------SIMPLE TESTING ON THE TRAINING DATA ITSELF --------------\n",
    "a1 = gaussianClassifierWithIdentityCovariance(X_train,y_train)\n",
    "\n",
    "plt.imshow(np.reshape(a1[0:784],(28,28)),cmap='gray',vmin=-5,vmax=5)\n",
    "\n",
    "train,tacc = testLinearClassifier(a1,X_train,y_train)\n",
    "val,vacc = testLinearClassifier(a1,X_val,y_val)\n",
    "test,testacc = testLinearClassifier(a1,X_test,y_test)\n",
    "\n",
    "print(f'\\ny1(x) Train misclassifications:  {train}, Training Accuracy: {tacc*100:.2f}%')\n",
    "print(f'y1(x) Validation Misclassifications:  {val}, Validation Accuracy: {vacc*100:.2f}%')\n",
    "print(f\"y1(x) Test Misclassifications:  {test}, Test Accuracy: {testacc*100:.2f}%\")\n",
    "\n",
    "\n",
    "\n",
    "\n",
    "\n"
   ]
  },
  {
   "cell_type": "markdown",
   "metadata": {},
   "source": [
    "## Define and test gaussianClassifierWithCommonCovariance\n",
    "## Component 1.4"
   ]
  },
  {
   "cell_type": "code",
   "execution_count": 65,
   "metadata": {},
   "outputs": [
    {
     "name": "stdout",
     "output_type": "stream",
     "text": [
      "Complete your code\n",
      "cov shape:  (784, 784)\n",
      "\n",
      "y2(x) Train misclassifications:  22, Training Accuracy: 99.79%\n",
      "y2(x) Validation Misclassifications:  3, Validation Accuracy: 99.80%\n",
      "y2(x) Test Misclassifications:  5, Test Accuracy: 99.83%\n"
     ]
    },
    {
     "data": {
      "image/png": "[encoded data removed]",
      "text/plain": [
       "<Figure size 640x480 with 1 Axes>"
      ]
     },
     "metadata": {},
     "output_type": "display_data"
    }
   ],
   "source": [
    "#------TRAINING CODE --------------\n",
    "\n",
    "from xml.etree.ElementTree import tostring\n",
    "from matplotlib import axes\n",
    "from numpy import str_\n",
    "\n",
    "\n",
    "def gaussianClassifierWithCommonCovariance(X_train2,y_train2):\n",
    "\n",
    "    a = 0.01*np.random.randn(Nfeatures,1)\n",
    "    print(\"Complete your code\")\n",
    "    \"\"\"\n",
    "    Gaussian classifier with a common covariance matrix.\n",
    "\n",
    "    Parameters:\n",
    "    - X_train2: Training dataset (numpy array)\n",
    "    - y_train2: Labels for the training dataset (numpy array)\n",
    "\n",
    "    Returns:\n",
    "    - a2: Coefficients of the linear classifier [w^T, w0] (numpy array)\n",
    "    \"\"\"\n",
    "\n",
    "    # Separate the data into two classes\n",
    "    class_1_data = X_train2[y_train2 == 0]\n",
    "    class_2_data = X_train2[y_train2 == 1]\n",
    "\n",
    "    # Estimate the mean vectors\n",
    "    mu1 = np.mean(class_1_data, axis=0)\n",
    "    mu2 = np.mean(class_2_data, axis=0)\n",
    "       \n",
    "\n",
    "    # Estimate the common covariance matrix\n",
    "    cov_matrix = np.cov(X_train2,rowvar=False)+1e4*np.eye(Nfeatures)\n",
    "    inv = np.linalg.inv(cov_matrix)\n",
    "    #+1e-4*np.eye(Nfeatures) # single matrix solution (not divide by zero)\n",
    "    print(\"cov shape: \", cov_matrix.shape)\n",
    "    w = inv @ (mu2 - mu1)\n",
    "    \n",
    "    w0 = 0.5 * ((mu1 @ (inv @ mu1)) - (mu2 @ (inv @ mu2)))\n",
    "    # Discriminant function coefficients\n",
    "    #cov_inv = np.linalg.inv(cov_matrix)\n",
    "    \n",
    "    # print(\"cov inv shape: \", cov_inv.shape)\n",
    "    # a2 = cov_inv @ (mu2-mu1)\n",
    "    # print(f\"a2 shape: {a2.shape}\")\n",
    "    a2 = np.concatenate([w, np.array([w0])])\n",
    "    return a2\n",
    "    \n",
    "    #return a\n",
    "    #YOUR CODE HERE\n",
    "\n",
    "\n",
    "#------SIMPLE TESTING ON THE TRAINING DATA ITSELF --------------\n",
    "a2 = gaussianClassifierWithCommonCovariance(X_train,y_train)\n",
    "# a[:-1])+ a[-1]\n",
    "plt.imshow(np.reshape(a2[:-1],(28,28)))\n",
    "#a2 = np.append(a2,1)\n",
    "#a2 = np.reshape(a2,(784,-1))\n",
    "\n",
    "\n",
    "train,tacc = testLinearClassifier(a2,X_train,y_train)\n",
    "val,vacc = testLinearClassifier(a2,X_val,y_val)\n",
    "test,testacc = testLinearClassifier(a2,X_test,y_test)\n",
    "print(f'\\ny2(x) Train misclassifications:  {train}, Training Accuracy: {tacc*100:.2f}%')\n",
    "print(f'y2(x) Validation Misclassifications:  {val}, Validation Accuracy: {vacc*100:.2f}%')\n",
    "print(f\"y2(x) Test Misclassifications:  {test}, Test Accuracy: {testacc*100:.2f}%\")\n"
   ]
  },
  {
   "cell_type": "markdown",
   "metadata": {},
   "source": [
    "# Component 1.5 Logistic Regression\n",
    "## Define and test logisticRegression \n",
    "\n",
    "You may choose the step size as 1e-4. You can try changing it.\n",
    "\n",
    "Use the expit() function from scipy.special.expit to implement sigmoid without overflow errors "
   ]
  },
  {
   "cell_type": "code",
   "execution_count": 66,
   "metadata": {},
   "outputs": [
    {
     "name": "stdout",
     "output_type": "stream",
     "text": [
      "\n",
      "y3(x) Train misclassifications:  16, Training Accuracy: 99.85%\n",
      "y3(x) Validation Misclassifications:  4, Validation Accuracy: 99.73%\n",
      "y3(x) Test Misclassifications:  6, Test Accuracy: 99.80%\n"
     ]
    },
    {
     "data": {
      "image/png": "[encoded data removed]",
      "text/plain": [
       "<Figure size 640x480 with 1 Axes>"
      ]
     },
     "metadata": {},
     "output_type": "display_data"
    }
   ],
   "source": [
    "\n",
    "    \n",
    "def logisticRegression(X3, y3, iterations=100, step_size=1e-4):\n",
    "    # Add a bias term to the input features\n",
    "    X_bias = np.concatenate([X3, np.ones((X3.shape[0], 1))], axis=1)\n",
    "    \n",
    "    # Initialize weights before loop\n",
    "    a3 = np.zeros(X_bias.shape[1])\n",
    "    \n",
    "    for _ in range(iterations):\n",
    "        # Predict probabilities\n",
    "        y_pred = expit((np.dot(X_bias,a3)))\n",
    "        \n",
    "        # Calculate gradient of log-likelihood\n",
    "        gradient = np.dot(X_bias.T,(y3 - y_pred))\n",
    "        \n",
    "        # Update the weights using gradient ascent\n",
    "        a3 += step_size * gradient\n",
    "        \n",
    "    return a3\n",
    "\n",
    "    \n",
    "#------SIMPLE TESTING ON THE TRAINING DATA ITSELF --------------\n",
    "a3 = logisticRegression(X_train,y_train,iterations=100)\n",
    "plt.imshow(np.reshape(a3[:-1],(28,28)),cmap='gray',vmin=-40,vmax=40)\n",
    "\n",
    "\n",
    "train,tacc = testLinearClassifier(a3,X_train,y_train)\n",
    "val,vacc = testLinearClassifier(a3,X_val,y_val)\n",
    "test,testacc = testLinearClassifier(a3,X_test,y_test)\n",
    "\n",
    "print(f'\\ny3(x) Train misclassifications:  {train}, Training Accuracy: {tacc*100:.2f}%')\n",
    "print(f'y3(x) Validation Misclassifications:  {val}, Validation Accuracy: {vacc*100:.2f}%')\n",
    "print(f\"y3(x) Test Misclassifications:  {test}, Test Accuracy: {testacc*100:.2f}%\")\n"
   ]
  },
  {
   "cell_type": "markdown",
   "metadata": {},
   "source": [
    "## Component 1.6 - Logistic Regression with Regularization"
   ]
  },
  {
   "cell_type": "code",
   "execution_count": 67,
   "metadata": {},
   "outputs": [
    {
     "name": "stdout",
     "output_type": "stream",
     "text": [
      "\n",
      "y4(x) Train misclassifications:  15, Training Accuracy: 99.86%\n",
      "y4(x) Validation Misclassifications:  4, Validation Accuracy: 99.73%\n",
      "y4(x) Test Misclassifications:  6, Test Accuracy: 99.80%\n"
     ]
    },
    {
     "data": {
      "image/png": "[encoded data removed]",
      "text/plain": [
       "<Figure size 640x480 with 1 Axes>"
      ]
     },
     "metadata": {},
     "output_type": "display_data"
    }
   ],
   "source": [
    "\n",
    "def logisticRegressionWithRegularization(X4,y4,iterations=100,step_size=1e-4,lam=0,verbose=False):\n",
    "    # Add a bias term to the input features\n",
    "    X_bias = np.concatenate([X4, np.ones((X4.shape[0], 1))], axis=1)\n",
    "    \n",
    "    # Initialize weights before loop\n",
    "    a4 = np.zeros(X_bias.shape[1])\n",
    "    \n",
    "    for _ in range(iterations):\n",
    "        # Predict probabilities\n",
    "        y_pred = expit((np.dot(X_bias,a4)))\n",
    "        \n",
    "        # Calculate gradient of log-likelihood\n",
    "        gradient = np.dot(X_bias.T, (y4 - y_pred)) - lam * a4\n",
    "        gradient[-1] += lam * a4[-1] # Exclude lambda for bias term\n",
    "        \n",
    "        # Update the weights using gradient ascent\n",
    "        a4 += step_size * gradient\n",
    "\n",
    "    return a4\n",
    "\n",
    "    \n",
    "#------SIMPLE TESTING ON THE TRAINING DATA ITSELF --------------\n",
    "a4 = logisticRegressionWithRegularization(X_train,y_train,iterations=100,lam=1)\n",
    "plt.imshow(np.reshape(a4[:-1],(28,28)),cmap='gray',vmin=-5,vmax=5)\n",
    "\n",
    "train,tacc = testLinearClassifier(a4,X_train,y_train)\n",
    "val,vacc = testLinearClassifier(a4,X_val,y_val)\n",
    "test,testacc = testLinearClassifier(a4,X_test,y_test)\n",
    "\n",
    "\n",
    "print(f'\\ny4(x) Train misclassifications:  {train}, Training Accuracy: {tacc*100:.2f}%')\n",
    "print(f'y4(x) Validation Misclassifications:  {val}, Validation Accuracy: {vacc*100:.2f}%')\n",
    "print(f\"y4(x) Test Misclassifications:  {test}, Test Accuracy: {testacc*100:.2f}%\")\n"
   ]
  },
  {
   "cell_type": "markdown",
   "metadata": {},
   "source": [
    "# Component 1.7 Optimize Hyperparameters\n",
    "## return optimal weight vector and lambda value used on validation set"
   ]
  },
  {
   "cell_type": "code",
   "execution_count": 68,
   "metadata": {},
   "outputs": [
    {
     "name": "stdout",
     "output_type": "stream",
     "text": [
      "\n",
      "Using best lambda:  100\n",
      "\n",
      "y4(x) Optimized Validation Misclassifications:  2, Optimized Validation Accuracy: 99.86%\n",
      "y4(x) Optimized Test Misclassifications:  5, Optimized Test Accuracy: 99.83%\n"
     ]
    },
    {
     "data": {
      "image/png": "[encoded data removed]",
      "text/plain": [
       "<Figure size 640x480 with 1 Axes>"
      ]
     },
     "metadata": {},
     "output_type": "display_data"
    }
   ],
   "source": [
    "def optimizeHyperparameters(Xtrain,ytrain,Xval,yval,lambda_values):\n",
    "    # Initialize variables\n",
    "    best_lambda = None\n",
    "    best_misclass_val = float('inf')\n",
    "    optimal_weights = None\n",
    "    best_accuracy = None\n",
    "    \n",
    "    \n",
    "    for lam in lambda_values:\n",
    "        # Obtain weight vector from regularized logistic regression function\n",
    "        weights = logisticRegressionWithRegularization(Xtrain,ytrain,lam=lam)\n",
    "        \n",
    "        # Test on validation set\n",
    "        val_misclass,accuracy = testLinearClassifier(weights,Xval,yval)\n",
    "        \n",
    "        # Update if better than prior lambda\n",
    "        if val_misclass < best_misclass_val:\n",
    "            best_accuracy = accuracy\n",
    "            best_misclass_val = val_misclass\n",
    "            best_lambda = lam\n",
    "            optimal_weights = weights\n",
    "    \n",
    "    lamopt = best_lambda\n",
    "    \n",
    "    return lamopt,optimal_weights\n",
    "\n",
    "lambda_list = [.001,.01,.1,1,10,100,1000,1e6] # lambda to test in optimization function \n",
    "lamopt,optimizedLogisticRegression = optimizeHyperparameters(X_train,y_train,X_val,y_val,lambda_list) # Return most accurate weight vector from regularized logistic regression (step & iterations default)\n",
    "\n",
    "test,test_accuracy = testLinearClassifier(optimizedLogisticRegression,X_test,y_test) # Testing optimized weight vector against test dataset\n",
    "val,val_accuracy = testLinearClassifier(optimizedLogisticRegression,X_val,y_val) # Revalidating optimized weight vector\n",
    "train,train_accuracy =testLinearClassifier(optimizedLogisticRegression,X_train,y_train) \n",
    "\n",
    "plt.imshow(np.reshape(optimizedLogisticRegression[:-1],(28,28)),cmap='gray',vmin=-1,vmax=1)\n",
    "print(\"\\nUsing best lambda: \",lamopt)\n",
    "\n",
    "\n",
    "print(f'\\ny4(x) Optimized Validation Misclassifications:  {val}, Optimized Validation Accuracy: {val_accuracy*100:.2f}%')\n",
    "print(f\"y4(x) Optimized Test Misclassifications:  {test}, Optimized Test Accuracy: {test_accuracy*100:.2f}%\")\n"
   ]
  },
  {
   "cell_type": "markdown",
   "metadata": {},
   "source": [
    "# Component 1.8\n",
    "## REPORT TEST ERRORS OF THE BEST MODELS\n",
    "\n",
    "YOUR CODE BELOW"
   ]
  },
  {
   "cell_type": "code",
   "execution_count": 69,
   "metadata": {},
   "outputs": [
    {
     "name": "stdout",
     "output_type": "stream",
     "text": [
      "\t\tREPORT SUMMARY\n",
      "-----------------------------------------------\n",
      "\n",
      "y1(x): gaussianClassifierWithIdentityCovariance\n",
      "\t-y1(x) Train misclassifications:  70, Training Accuracy: 99.32%\n",
      "\t-y1(x) Validation Misclassifications:  14, Validation Accuracy: 99.05%\n",
      "\t-y1(x) Test Misclassifications:  22, Test Accuracy: 99.26%\n",
      "\n",
      "y2(x): gaussianClassifierWithCommonCovariance\n",
      "Complete your code\n",
      "cov shape:  (784, 784)\n",
      "\t-y2(x) Train misclassifications:  22, Training Accuracy: 99.79%\n",
      "\t-y2(x) Validation Misclassifications:  3, Validation Accuracy: 99.80%\n",
      "\t-y2(x) Test Misclassifications:  5, Test Accuracy: 99.83%\n",
      "\n",
      "y3(x): logisticRegression\n",
      "\t-y3(x) Train misclassifications:  16, Training Accuracy: 99.85%\n",
      "\t-y3(x) Validation Misclassifications:  4, Validation Accuracy: 99.73%\n",
      "\t-y3(x) Test Misclassifications:  6, Test Accuracy: 99.80%\n",
      "\n",
      "y4(x): logisticRegressionWithRegularization (not optimized)\n",
      "\t-y4(x) Train misclassifications:  16, Training Accuracy: 99.85%\n",
      "\t-y4(x) Validation Misclassifications:  4, Validation Accuracy: 99.73%\n",
      "\t-y4(x) Test Misclassifications:  6, Test Accuracy: 99.80%\n",
      "\n",
      "y4(x): logisticRegressionWithRegularization (optimized lambda = 100)\n",
      "\t-y4(x) Optimized Validation Misclassifications:  2, Optimized Validation Accuracy: 99.86%\n",
      "\t-y4(x) Optimized Test Misclassifications:  5, Optimized Test Accuracy: 99.83%\n"
     ]
    }
   ],
   "source": [
    "print('\\t\\tREPORT SUMMARY\\n-----------------------------------------------')\n",
    "print('\\ny1(x): gaussianClassifierWithIdentityCovariance')\n",
    "a1 = gaussianClassifierWithIdentityCovariance(X_train,y_train)\n",
    "train,tacc = testLinearClassifier(a1,X_train,y_train)\n",
    "val,vacc = testLinearClassifier(a1,X_val,y_val)\n",
    "test,testacc = testLinearClassifier(a1,X_test,y_test)\n",
    "print(f'\\t-y1(x) Train misclassifications:  {train}, Training Accuracy: {tacc*100:.2f}%')\n",
    "print(f'\\t-y1(x) Validation Misclassifications:  {val}, Validation Accuracy: {vacc*100:.2f}%')\n",
    "print(f\"\\t-y1(x) Test Misclassifications:  {test}, Test Accuracy: {testacc*100:.2f}%\")\n",
    "\n",
    "print('\\ny2(x): gaussianClassifierWithCommonCovariance')\n",
    "a2 = gaussianClassifierWithCommonCovariance(X_train,y_train)\n",
    "train,tacc = testLinearClassifier(a2,X_train,y_train)\n",
    "val,vacc = testLinearClassifier(a2,X_val,y_val)\n",
    "test,testacc = testLinearClassifier(a2,X_test,y_test)\n",
    "print(f'\\t-y2(x) Train misclassifications:  {train}, Training Accuracy: {tacc*100:.2f}%')\n",
    "print(f'\\t-y2(x) Validation Misclassifications:  {val}, Validation Accuracy: {vacc*100:.2f}%')\n",
    "print(f\"\\t-y2(x) Test Misclassifications:  {test}, Test Accuracy: {testacc*100:.2f}%\")\n",
    "\n",
    "\n",
    "print('\\ny3(x): logisticRegression')\n",
    "a3 = logisticRegression(X_train,y_train,iterations=100)\n",
    "train,tacc = testLinearClassifier(a3,X_train,y_train)\n",
    "val,vacc = testLinearClassifier(a3,X_val,y_val)\n",
    "test,testacc = testLinearClassifier(a3,X_test,y_test)\n",
    "print(f'\\t-y3(x) Train misclassifications:  {train}, Training Accuracy: {tacc*100:.2f}%')\n",
    "print(f'\\t-y3(x) Validation Misclassifications:  {val}, Validation Accuracy: {vacc*100:.2f}%')\n",
    "print(f\"\\t-y3(x) Test Misclassifications:  {test}, Test Accuracy: {testacc*100:.2f}%\")\n",
    "\n",
    "print('\\ny4(x): logisticRegressionWithRegularization (not optimized)')\n",
    "a4 = logisticRegressionWithRegularization(X_train,y_train,iterations=100,lam=0)\n",
    "train,tacc = testLinearClassifier(a4,X_train,y_train)\n",
    "val,vacc = testLinearClassifier(a4,X_val,y_val)\n",
    "test,testacc = testLinearClassifier(a4,X_test,y_test)\n",
    "print(f'\\t-y4(x) Train misclassifications:  {train}, Training Accuracy: {tacc*100:.2f}%')\n",
    "print(f'\\t-y4(x) Validation Misclassifications:  {val}, Validation Accuracy: {vacc*100:.2f}%')\n",
    "print(f\"\\t-y4(x) Test Misclassifications:  {test}, Test Accuracy: {testacc*100:.2f}%\")\n",
    "\n",
    "print('\\ny4(x): logisticRegressionWithRegularization (optimized lambda = 100)')\n",
    "test,test_accuracy = testLinearClassifier(optimizedLogisticRegression,X_test,y_test) # Testing optimized weight vector against test dataset\n",
    "val,val_accuracy = testLinearClassifier(optimizedLogisticRegression,X_val,y_val) # Revalidating optimized weight vector\n",
    "print(f'\\t-y4(x) Optimized Validation Misclassifications:  {val}, Optimized Validation Accuracy: {val_accuracy*100:.2f}%')\n",
    "print(f\"\\t-y4(x) Optimized Test Misclassifications:  {test}, Optimized Test Accuracy: {test_accuracy*100:.2f}%\")\n",
    "\n",
    "\n"
   ]
  },
  {
   "cell_type": "markdown",
   "metadata": {},
   "source": [
    "# Component 2.1 \n",
    "## Split multiclass into subsets: 70% training, 10% validation, 20% test"
   ]
  },
  {
   "cell_type": "code",
   "execution_count": 70,
   "metadata": {},
   "outputs": [],
   "source": [
    "# # X_train, X_temp, y_train, y_temp = train_test_split(X, y,test_size=0.3, random_state=2)\n",
    "\n",
    "# # # Second split - 30% temporary into 20% test and 10% validation\n",
    "# # X_val, X_test, y_val, y_test = train_test_split(X_temp, y_temp, test_size=2/3, random_state=2) \n",
    "\n",
    "# # # X_train & y_train = 70%, X_test & y_test = 20%, X_val & y_val = 10%\n",
    "\n",
    "# # Nsamples = X_train.shape[0] # samples\n",
    "# # Nfeatures = X_train.shape[1] # features\n",
    "\n",
    "X_train, X_temp, y_train, y_temp = train_test_split(X, y,test_size=0.3, random_state=10)\n",
    "# Second split - 30% temporary into 20% test and 10% validation\n",
    "X_val, X_test, y_val, y_test = train_test_split(X_temp, y_temp, test_size=2/3, random_state=10) \n",
    "# X_train & y_train = 70%, X_test & y_test = 20%, X_val & y_val = 10%\n",
    "Nsamples = X_train.shape[0] # samples\n",
    "Nfeatures = X_train.shape[1] # features\n",
    "\n",
    "\n"
   ]
  },
  {
   "cell_type": "markdown",
   "metadata": {},
   "source": [
    "# Component 2.2 \n",
    "## Gaussian multiclass classifier"
   ]
  },
  {
   "cell_type": "code",
   "execution_count": 71,
   "metadata": {},
   "outputs": [
    {
     "name": "stdout",
     "output_type": "stream",
     "text": [
      "Accuracy of Gaussian Classifier with Identity Covariance (Multi-class): 80.24%\n"
     ]
    }
   ],
   "source": [
    "import numpy as np\n",
    "\n",
    "def gaussian_classifier_multi_class_identity(X,y):\n",
    "    num_classes = 10\n",
    "    classifiers = []\n",
    "    \n",
    "\n",
    "    \n",
    "    \n",
    "    \n",
    "    for class_label in range(num_classes):\n",
    "        binary_label = (y_train == class_label).astype(int)\n",
    "\n",
    "       \n",
    "        classifier = gaussian_classifier_identity(X_train,binary_label)\n",
    "        classifiers.append(classifier)\n",
    "\n",
    "    return classifiers\n",
    "\n",
    "def gaussian_classifier_identity(X, y):\n",
    "    # Separate the data into two classes (0 and 1)\n",
    "    X_class_0 = X[y == 0]\n",
    "    X_class_1 = X[y == 1]\n",
    "\n",
    "    # Calculate the means for each class\n",
    "    mean_0 = np.mean(X_class_0, axis=0)\n",
    "    mean_1 = np.mean(X_class_1, axis=0)\n",
    "\n",
    "    # Discriminant weights\n",
    "    w = mean_1 - mean_0\n",
    "    w0 = 0.5 * (np.dot(mean_0, mean_0) - np.dot(mean_1, mean_1))\n",
    "\n",
    "    # Combine w and w0 into a single vector a\n",
    "    a = np.concatenate([w, np.array([w0])])\n",
    "\n",
    "    return a\n",
    "\n",
    "def predict_multi_class_gaussian_identity(X, classifiers):\n",
    "    num_classes = len(classifiers)\n",
    "    num_samples = X.shape[0]\n",
    "    scores_matrix = np.zeros((num_samples, num_classes))\n",
    "\n",
    "    for class_label, classifier in enumerate(classifiers):\n",
    "        # Calculate discriminant scores for the current class\n",
    "        scores_matrix[:, class_label] = np.dot(X, classifier[:-1]) + classifier[-1]\n",
    "\n",
    "    # Predict the class with the highest score for each sample\n",
    "    predictions = np.argmax(scores_matrix, axis=1)\n",
    "    \n",
    "    return predictions\n",
    "\n",
    "\n",
    "# Train Gaussian classifier with identity covariance for multi-class\n",
    "    \n",
    "gaussian_classifiers_identity = gaussian_classifier_multi_class_identity(X_train,y_train)\n",
    "\n",
    "\n",
    "# Predict on the test set\n",
    "predictions_gaussian_identity = predict_multi_class_gaussian_identity(X_test, gaussian_classifiers_identity)\n",
    "\n",
    "# Evaluate accuracy\n",
    "accuracy_gaussian_identity = np.mean(predictions_gaussian_identity == y_test)\n",
    "print(\"Accuracy of Gaussian Classifier with Identity Covariance (Multi-class): {:.2%}\".format(accuracy_gaussian_identity))\n"
   ]
  },
  {
   "cell_type": "markdown",
   "metadata": {},
   "source": [
    "# Component 2.3 Multiclass Logistic Regression"
   ]
  },
  {
   "cell_type": "code",
   "execution_count": 72,
   "metadata": {},
   "outputs": [
    {
     "name": "stdout",
     "output_type": "stream",
     "text": [
      "Accuracy of Logistic Regression (Multi-class): 82.15%\n"
     ]
    }
   ],
   "source": [
    "import numpy as np\n",
    "\n",
    "# def sigmoid(z):\n",
    "#     return 1 / (1 + np.exp(-z))\n",
    "\n",
    "def logistic_regression_multi_class(X_train, y_train, learning_rate=1e-4, regularization_param=1, num_iterations=100):\n",
    "    num_classes = len(np.unique(y_train))\n",
    "    weights_matrix = np.zeros((X_train.shape[1] + 1, num_classes))\n",
    "\n",
    "    for class_label in range(num_classes):\n",
    "        # Create a binary label vector for the current class\n",
    "        binary_labels = (y_train == class_label).astype(int)\n",
    "\n",
    "        # Train a logistic regression classifier for the current class\n",
    "        weights= logisticRegressionWithRegularization(X_train, binary_labels, step_size=learning_rate, lam=regularization_param, iterations=num_iterations)\n",
    "        weights_matrix[:, class_label] = np.concatenate([weights[:-1], np.array([0])])  # Include bias term in weights\n",
    "\n",
    "    return weights_matrix\n",
    "\n",
    "def predict_multi_class_logistic(X, weights_matrix):\n",
    "    scores_matrix = np.dot(np.concatenate([X, np.ones((X.shape[0], 1))], axis=1), weights_matrix)\n",
    "\n",
    "    # Predict the class with the highest score for each sample\n",
    "    predictions = np.argmax(scores_matrix, axis=1)\n",
    "\n",
    "    return predictions\n",
    "\n",
    "\n",
    "\n",
    "# Train Logistic Regression for multi-class\n",
    "weights_matrix_logistic = logistic_regression_multi_class(X_train, y_train)\n",
    "\n",
    "# Predict on the test set\n",
    "predictions_logistic = predict_multi_class_logistic(X_test, weights_matrix_logistic)\n",
    "\n",
    "# Evaluate accuracy\n",
    "accuracy_logistic = np.mean(predictions_logistic == y_test)\n",
    "print(\"Accuracy of Logistic Regression (Multi-class): {:.2%}\".format(accuracy_logistic))\n"
   ]
  },
  {
   "cell_type": "markdown",
   "metadata": {},
   "source": [
    "# Component 2.4 MCC Optimized Hyperparameters"
   ]
  },
  {
   "cell_type": "code",
   "execution_count": 73,
   "metadata": {},
   "outputs": [],
   "source": [
    "\n",
    "\n",
    "# def logistic_regression_regularized_multi_class(X, y, weights_matrix, regularization_param):\n",
    "#     num_classes = 10\n",
    "#     num_samples = X.shape[0]\n",
    "#     scores_matrix = np.dot(np.concatenate([X, np.ones((num_samples, 1))], axis=1), weights_matrix)\n",
    "\n",
    "#     # Apply sigmoid function to get predicted probabilities\n",
    "#     probabilities_matrix = expit(scores_matrix)\n",
    "\n",
    "#     # Convert probabilities to binary predictions\n",
    "#     predictions_matrix = (probabilities_matrix >= 0.5).astype(int)\n",
    "\n",
    "#     # Evaluate the number of misclassifications\n",
    "#     misclassifications = np.sum(predictions_matrix != y)\n",
    "\n",
    "#     # Calculate accuracy\n",
    "#     accuracy = 1 - misclassifications / num_samples\n",
    "\n",
    "#     # Calculate the regularization term\n",
    "#     regularization_term = (regularization_param / (2 * num_samples)) * np.sum(weights_matrix[:-1, :]**2)\n",
    "\n",
    "#     # Calculate the total cost (negative log likelihood + regularization)\n",
    "#     total_cost = -np.sum(y * np.log(probabilities_matrix) + (1 - y) * np.log(1 - probabilities_matrix)) / num_samples + regularization_term\n",
    "\n",
    "#     return total_cost, misclassifications, accuracy\n",
    "\n",
    "# def optimizeHyperparametersLogisticMultiClass(X_train, y_train, X_val, y_val, X_test, y_test, lambda_values, step_size=0.01, num_iterations=100):\n",
    "#     best_lambda = None\n",
    "#     best_misclassifications_val = float('inf')\n",
    "#     optimal_weights_matrix = None\n",
    "   \n",
    "#     for regularization_param in lambda_values:\n",
    "#         # Train logistic regression for multi-class\n",
    "#         weights_matrix = logisticRegressionWithRegularization(X_train, y_train)\n",
    "#         # Validate on the validation set\n",
    "#         total_cost_val, misclassifications_val, _ = logistic_regression_regularized_multi_class(X_val, y_val, weights_matrix, regularization_param)\n",
    "#         # Update if current lambda gives fewer misclassifications on validation set\n",
    "#         if misclassifications_val < best_misclassifications_val:\n",
    "#             best_misclassifications_val = misclassifications_val\n",
    "#             best_lambda = regularization_param\n",
    "#             optimal_weights_matrix = weights_matrix\n",
    "\n",
    "#     # Evaluate on test set using the best lambda found on the validation set\n",
    "#     total_cost_test, misclassifications_test, accuracy_test = logistic_regression_regularized_multi_class(X_test, y_test, optimal_weights_matrix, best_lambda)\n",
    "\n",
    "#     print(f\"Best Lambda (min misclassifications on validation set): {best_lambda}\")\n",
    "#     print(f\"Number of Misclassifications on Test Set: {misclassifications_test}\")\n",
    "#     print(f\"Accuracy on Test Set: {accuracy_test:.2%}\")\n",
    "\n",
    "#     return optimal_weights_matrix\n",
    "\n",
    "\n",
    "\n",
    "# lambda_values = [0.001, 0.01, 0.1, 1, 10,100] \n",
    "# optimal_weights_matrix_logistic = optimizeHyperparametersLogisticMultiClass(X_train, y_train, X_val, y_val, X_test, y_test, lambda_values)\n"
   ]
  },
  {
   "cell_type": "markdown",
   "metadata": {},
   "source": [
    "# Component 2.5 Test Linear MCC "
   ]
  },
  {
   "cell_type": "code",
   "execution_count": 74,
   "metadata": {},
   "outputs": [
    {
     "name": "stdout",
     "output_type": "stream",
     "text": [
      "Accuracy of Gaussian MCClassifier with Identity Covariance (Multi-class): 80.24%\n",
      "MCC Gaussian test misclassifications:  2767\n",
      "Accuracy of Logistic Regression MCClassifier: 82.15%\n",
      "MCC Logistic Regression test misclassifications:  2499\n"
     ]
    }
   ],
   "source": [
    "# Train Gaussian classifier with identity covariance for multi-class\n",
    "    \n",
    "gaussian_classifiers_identity = gaussian_classifier_multi_class_identity(X_train,y_train)\n",
    "\n",
    "\n",
    "# Predict on the test set\n",
    "predictions_gaussian_identity = predict_multi_class_gaussian_identity(X_test, gaussian_classifiers_identity)\n",
    "\n",
    "# Evaluate accuracy\n",
    "accuracy_gaussian_identity = np.mean(predictions_gaussian_identity == y_test)\n",
    "\n",
    "# MCC misclass Gaussian:\n",
    "test_misclass = np.sum(predictions_gaussian_identity != y_test)\n",
    "#val_misclass = np.sum(predictions_gaussian_identity != y_val)\n",
    "\n",
    "print(\"Accuracy of Gaussian MCClassifier with Identity Covariance (Multi-class): {:.2%}\".format(accuracy_gaussian_identity))\n",
    "print(\"MCC Gaussian test misclassifications: \", test_misclass)\n",
    "\n",
    "\n",
    "\n",
    "# Train Logistic Regression for multi-class\n",
    "weights_matrix_logistic = logistic_regression_multi_class(X_train, y_train)\n",
    "\n",
    "# Predict on the test set\n",
    "predictions_logistic = predict_multi_class_logistic(X_test, weights_matrix_logistic)\n",
    "\n",
    "# Evaluate accuracy\n",
    "accuracy_logistic = np.mean(predictions_logistic == y_test)\n",
    "test_lr_misclass = np.sum(predictions_logistic != y_test)\n",
    "print(\"Accuracy of Logistic Regression MCClassifier: {:.2%}\".format(accuracy_logistic))\n",
    "print(\"MCC Logistic Regression test misclassifications: \", test_lr_misclass)"
   ]
  }
 ],
 "metadata": {
  "anaconda-cloud": {},
  "kernelspec": {
   "display_name": "Python 3 (ipykernel)",
   "language": "python",
   "name": "python3"
  },
  "language_info": {
   "codemirror_mode": {
    "name": "ipython",
    "version": 3
   },
   "file_extension": ".py",
   "mimetype": "text/x-python",
   "name": "python",
   "nbconvert_exporter": "python",
   "pygments_lexer": "ipython3",
   "version": "3.11.3"
  }
 },
 "nbformat": 4,
 "nbformat_minor": 4
}
